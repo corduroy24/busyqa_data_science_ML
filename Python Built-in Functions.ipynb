{
 "cells": [
  {
   "cell_type": "markdown",
   "metadata": {},
   "source": [
    "# What are built-in Python functions?"
   ]
  },
  {
   "cell_type": "markdown",
   "metadata": {
    "ExecuteTime": {
     "end_time": "2020-02-08T04:52:48.005143Z",
     "start_time": "2020-02-08T04:52:48.000198Z"
    }
   },
   "source": [
    "The Python interpreter has a number of functions and types built into it that are always available."
   ]
  },
  {
   "cell_type": "markdown",
   "metadata": {},
   "source": [
    "# Built-In Functions -  Data Structure"
   ]
  },
  {
   "cell_type": "markdown",
   "metadata": {
    "heading_collapsed": true
   },
   "source": [
    "## dict()\n",
    "Returns a dictionary."
   ]
  },
  {
   "cell_type": "code",
   "execution_count": null,
   "metadata": {
    "ExecuteTime": {
     "end_time": "2020-02-08T05:44:52.280258Z",
     "start_time": "2020-02-08T05:44:52.277229Z"
    },
    "hidden": true
   },
   "outputs": [],
   "source": [
    "dict_1 = dict(name=\"xyz\", age=48)"
   ]
  },
  {
   "cell_type": "code",
   "execution_count": null,
   "metadata": {
    "ExecuteTime": {
     "end_time": "2020-02-08T05:44:55.113192Z",
     "start_time": "2020-02-08T05:44:55.109178Z"
    },
    "hidden": true
   },
   "outputs": [],
   "source": [
    "dict_1"
   ]
  },
  {
   "cell_type": "markdown",
   "metadata": {
    "heading_collapsed": true
   },
   "source": [
    "## list()\n",
    "\n",
    "The list() function creates a list object."
   ]
  },
  {
   "cell_type": "code",
   "execution_count": null,
   "metadata": {
    "ExecuteTime": {
     "end_time": "2020-02-08T07:43:35.376174Z",
     "start_time": "2020-02-08T07:43:35.371150Z"
    },
    "hidden": true
   },
   "outputs": [],
   "source": [
    "list_1 = ['abc',909]\n",
    "type(list_1)"
   ]
  },
  {
   "cell_type": "markdown",
   "metadata": {
    "heading_collapsed": true
   },
   "source": [
    "## tuple()\n",
    "\n",
    "The tuple() function creates a tuple object."
   ]
  },
  {
   "cell_type": "code",
   "execution_count": null,
   "metadata": {
    "ExecuteTime": {
     "end_time": "2020-02-08T07:45:48.026484Z",
     "start_time": "2020-02-08T07:45:48.022534Z"
    },
    "hidden": true
   },
   "outputs": [],
   "source": [
    "tup_1 = (3,4,5) "
   ]
  },
  {
   "cell_type": "code",
   "execution_count": null,
   "metadata": {
    "ExecuteTime": {
     "end_time": "2020-02-08T07:45:51.903733Z",
     "start_time": "2020-02-08T07:45:51.898746Z"
    },
    "hidden": true,
    "scrolled": true
   },
   "outputs": [],
   "source": [
    "tup_1"
   ]
  },
  {
   "cell_type": "markdown",
   "metadata": {},
   "source": [
    "## set()\n",
    "\n",
    "The set() function creates a set object.\n",
    "\n",
    "The items in a set list are unordered, so it will appear in random order."
   ]
  },
  {
   "cell_type": "code",
   "execution_count": null,
   "metadata": {
    "ExecuteTime": {
     "end_time": "2020-02-08T07:18:18.920778Z",
     "start_time": "2020-02-08T07:18:18.916791Z"
    }
   },
   "outputs": [],
   "source": [
    "x = set(\"Hello\")"
   ]
  },
  {
   "cell_type": "code",
   "execution_count": null,
   "metadata": {
    "ExecuteTime": {
     "end_time": "2020-02-08T07:18:21.822458Z",
     "start_time": "2020-02-08T07:18:21.818469Z"
    }
   },
   "outputs": [],
   "source": [
    "x"
   ]
  },
  {
   "cell_type": "markdown",
   "metadata": {},
   "source": [
    "# Built-In Functions - Datatype"
   ]
  },
  {
   "cell_type": "markdown",
   "metadata": {},
   "source": [
    "## int()\n",
    "\n",
    "The int() function converts the specified value into an integer number."
   ]
  },
  {
   "cell_type": "code",
   "execution_count": null,
   "metadata": {
    "ExecuteTime": {
     "end_time": "2020-02-08T07:43:32.527637Z",
     "start_time": "2020-02-08T07:43:32.523652Z"
    }
   },
   "outputs": [],
   "source": [
    "int(134.09893)"
   ]
  },
  {
   "cell_type": "code",
   "execution_count": null,
   "metadata": {
    "ExecuteTime": {
     "end_time": "2020-02-08T07:43:32.917948Z",
     "start_time": "2020-02-08T07:43:32.913001Z"
    }
   },
   "outputs": [],
   "source": [
    "int(\"45678\")"
   ]
  },
  {
   "cell_type": "markdown",
   "metadata": {},
   "source": [
    "## float()\n",
    "The float() function converts the specified value into a floating point number."
   ]
  },
  {
   "cell_type": "code",
   "execution_count": null,
   "metadata": {
    "ExecuteTime": {
     "end_time": "2020-02-08T06:34:35.122199Z",
     "start_time": "2020-02-08T06:34:35.108091Z"
    }
   },
   "outputs": [],
   "source": [
    "float(\"3.500\")"
   ]
  },
  {
   "cell_type": "code",
   "execution_count": null,
   "metadata": {
    "ExecuteTime": {
     "end_time": "2020-02-08T06:34:40.813663Z",
     "start_time": "2020-02-08T06:34:40.808633Z"
    }
   },
   "outputs": [],
   "source": [
    "float(3)"
   ]
  },
  {
   "cell_type": "markdown",
   "metadata": {},
   "source": [
    "## str()\n",
    "\n",
    "The str() function converts the specified value into a string."
   ]
  },
  {
   "cell_type": "code",
   "execution_count": null,
   "metadata": {
    "ExecuteTime": {
     "end_time": "2020-02-08T07:33:06.444029Z",
     "start_time": "2020-02-08T07:33:06.439043Z"
    }
   },
   "outputs": [],
   "source": [
    "str(12)"
   ]
  },
  {
   "cell_type": "code",
   "execution_count": null,
   "metadata": {
    "ExecuteTime": {
     "end_time": "2020-02-08T07:33:15.403058Z",
     "start_time": "2020-02-08T07:33:15.399031Z"
    }
   },
   "outputs": [],
   "source": [
    "str(3.5)"
   ]
  },
  {
   "cell_type": "code",
   "execution_count": null,
   "metadata": {
    "ExecuteTime": {
     "end_time": "2020-02-08T07:33:37.319866Z",
     "start_time": "2020-02-08T07:33:37.311418Z"
    },
    "scrolled": true
   },
   "outputs": [],
   "source": [
    "str(list_1)"
   ]
  },
  {
   "cell_type": "markdown",
   "metadata": {},
   "source": [
    "## bool()\n",
    "The bool() function converts the given value to a boolean value (True or False). If the given value is False, the bool function returns False else it returns True.\n",
    "\n",
    "As we seen in the syntax that the bool() function can take a single parameter (value that needs to be converted). It converts the given value to True or False.\n",
    "\n",
    "If we don’t pass any value to bool() function, it returns False."
   ]
  },
  {
   "cell_type": "code",
   "execution_count": null,
   "metadata": {
    "ExecuteTime": {
     "end_time": "2020-02-08T05:35:26.265658Z",
     "start_time": "2020-02-08T05:35:26.259674Z"
    }
   },
   "outputs": [],
   "source": [
    "list_1 = []\n",
    "bool(list_1)"
   ]
  },
  {
   "cell_type": "code",
   "execution_count": null,
   "metadata": {
    "ExecuteTime": {
     "end_time": "2020-02-08T05:37:19.934392Z",
     "start_time": "2020-02-08T05:37:19.929407Z"
    }
   },
   "outputs": [],
   "source": [
    "num = 99\n",
    "\n",
    "bool(num)"
   ]
  },
  {
   "cell_type": "code",
   "execution_count": null,
   "metadata": {
    "ExecuteTime": {
     "end_time": "2020-02-08T05:37:34.718129Z",
     "start_time": "2020-02-08T05:37:34.713178Z"
    }
   },
   "outputs": [],
   "source": [
    "num = 0\n",
    "bool(num)"
   ]
  },
  {
   "cell_type": "code",
   "execution_count": null,
   "metadata": {
    "ExecuteTime": {
     "end_time": "2020-02-08T05:37:51.352190Z",
     "start_time": "2020-02-08T05:37:51.347096Z"
    }
   },
   "outputs": [],
   "source": [
    "str_1 = ''\n",
    "bool(str_1)"
   ]
  },
  {
   "cell_type": "code",
   "execution_count": null,
   "metadata": {
    "ExecuteTime": {
     "end_time": "2020-02-08T05:37:59.293774Z",
     "start_time": "2020-02-08T05:37:59.288787Z"
    },
    "scrolled": true
   },
   "outputs": [],
   "source": [
    "str_1 = 'T'\n",
    "bool(str_1)"
   ]
  },
  {
   "cell_type": "markdown",
   "metadata": {},
   "source": [
    " # Built-In Functions - Mathematic Operations"
   ]
  },
  {
   "cell_type": "markdown",
   "metadata": {},
   "source": [
    "## abs()\n",
    "The abs() function returns the absolute value of the specified number."
   ]
  },
  {
   "cell_type": "code",
   "execution_count": null,
   "metadata": {
    "ExecuteTime": {
     "end_time": "2020-02-08T05:07:23.398537Z",
     "start_time": "2020-02-08T05:07:23.393550Z"
    }
   },
   "outputs": [],
   "source": [
    "abs(-98)"
   ]
  },
  {
   "cell_type": "markdown",
   "metadata": {},
   "source": [
    "## divmod()\n",
    "The divmod() function returns a tuple containing the quotient  and the remainder when argument1 (divident) is divided by argument2 (divisor)."
   ]
  },
  {
   "cell_type": "markdown",
   "metadata": {},
   "source": [
    "divmod(divident, divisor)\n",
    "\n",
    "\n",
    "divident - A Number. The number you want to divide\n",
    "\n",
    "divisor - A Number. The number you want to divide with"
   ]
  },
  {
   "cell_type": "code",
   "execution_count": null,
   "metadata": {
    "ExecuteTime": {
     "end_time": "2020-02-08T05:47:48.753222Z",
     "start_time": "2020-02-08T05:47:48.748238Z"
    }
   },
   "outputs": [],
   "source": [
    "divmod(5,2)"
   ]
  },
  {
   "cell_type": "code",
   "execution_count": null,
   "metadata": {
    "ExecuteTime": {
     "end_time": "2020-02-08T05:48:10.928796Z",
     "start_time": "2020-02-08T05:48:10.923809Z"
    }
   },
   "outputs": [],
   "source": [
    "divmod(9,3)"
   ]
  },
  {
   "cell_type": "code",
   "execution_count": null,
   "metadata": {
    "ExecuteTime": {
     "end_time": "2020-02-08T05:48:31.611743Z",
     "start_time": "2020-02-08T05:48:31.606756Z"
    }
   },
   "outputs": [],
   "source": [
    "divmod(8,5)"
   ]
  },
  {
   "cell_type": "markdown",
   "metadata": {},
   "source": [
    "## max() and min()\n",
    "\n",
    "The max() function returns the item with the highest value, or the item with the highest value in an iterable.\n",
    "\n",
    "The min() function returns the item with the lowest value, or the item with the lowest value in an iterable.\n",
    "\n",
    "If the values are strings, an alphabetically comparison is done."
   ]
  },
  {
   "cell_type": "code",
   "execution_count": null,
   "metadata": {
    "ExecuteTime": {
     "end_time": "2020-02-08T07:03:15.542337Z",
     "start_time": "2020-02-08T07:03:15.537350Z"
    }
   },
   "outputs": [],
   "source": [
    "max([6767,5687,435])"
   ]
  },
  {
   "cell_type": "code",
   "execution_count": null,
   "metadata": {
    "ExecuteTime": {
     "end_time": "2020-02-08T07:04:15.717641Z",
     "start_time": "2020-02-08T07:04:15.713644Z"
    }
   },
   "outputs": [],
   "source": [
    "min([6767,5687,435])"
   ]
  },
  {
   "cell_type": "code",
   "execution_count": null,
   "metadata": {
    "ExecuteTime": {
     "end_time": "2020-02-08T07:03:26.037284Z",
     "start_time": "2020-02-08T07:03:26.033297Z"
    }
   },
   "outputs": [],
   "source": [
    "max(\"Hello World\")"
   ]
  },
  {
   "cell_type": "code",
   "execution_count": null,
   "metadata": {
    "ExecuteTime": {
     "end_time": "2020-02-08T07:04:22.778175Z",
     "start_time": "2020-02-08T07:04:22.773234Z"
    },
    "scrolled": true
   },
   "outputs": [],
   "source": [
    "min(\"Hello World\")"
   ]
  },
  {
   "cell_type": "markdown",
   "metadata": {},
   "source": [
    "## pow()\n",
    "\n",
    "The pow() function returns the value of x to the power of y (xy).\n",
    "\n",
    "If a third parameter is present, it returns x to the power of y, modulus z."
   ]
  },
  {
   "cell_type": "markdown",
   "metadata": {},
   "source": [
    "pow(x, y, z)\n",
    "\n",
    "- x - A number, the base\n",
    "\n",
    "- y - A number, the exponent\n",
    "\n",
    "- z - Optional. A number, the modulus"
   ]
  },
  {
   "cell_type": "code",
   "execution_count": null,
   "metadata": {
    "ExecuteTime": {
     "end_time": "2020-02-08T07:06:46.683781Z",
     "start_time": "2020-02-08T07:06:46.678794Z"
    }
   },
   "outputs": [],
   "source": [
    "pow(4,3)"
   ]
  },
  {
   "cell_type": "code",
   "execution_count": null,
   "metadata": {
    "ExecuteTime": {
     "end_time": "2020-02-08T07:07:12.842949Z",
     "start_time": "2020-02-08T07:07:12.837963Z"
    }
   },
   "outputs": [],
   "source": [
    "pow(4, 3, 5)  # same as (4 * 4 * 4) % 5"
   ]
  },
  {
   "cell_type": "markdown",
   "metadata": {},
   "source": [
    "## range()\n",
    "\n",
    "The range() function returns a sequence of numbers, starting from 0 by default, and increments by 1 (by default), and ends at a specified number.\n",
    "\n",
    "- start: Optional. An integer number specifying at which position to start. Default is 0\n",
    "\n",
    "- stop: Required. An integer number specifying at which position to end.\n",
    "\n",
    "- step: Optional. An integer number specifying the incrementation. Default is 1"
   ]
  },
  {
   "cell_type": "code",
   "execution_count": null,
   "metadata": {
    "ExecuteTime": {
     "end_time": "2020-02-08T07:11:43.179089Z",
     "start_time": "2020-02-08T07:11:43.175142Z"
    }
   },
   "outputs": [],
   "source": [
    "for i in range(5):\n",
    "    print(i)"
   ]
  },
  {
   "cell_type": "code",
   "execution_count": null,
   "metadata": {
    "ExecuteTime": {
     "end_time": "2020-02-08T07:11:59.972420Z",
     "start_time": "2020-02-08T07:11:59.968388Z"
    }
   },
   "outputs": [],
   "source": [
    "for i in range(1,5):\n",
    "    print(i)"
   ]
  },
  {
   "cell_type": "code",
   "execution_count": null,
   "metadata": {
    "ExecuteTime": {
     "end_time": "2020-02-08T07:12:08.645465Z",
     "start_time": "2020-02-08T07:12:08.639480Z"
    },
    "scrolled": true
   },
   "outputs": [],
   "source": [
    "for i in range(1,5,2):\n",
    "    print(i)"
   ]
  },
  {
   "cell_type": "markdown",
   "metadata": {},
   "source": [
    "## round()\n",
    "\n",
    "The round() function returns a floating point number that is a rounded version of the specified number, with the specified number of decimals.\n",
    "\n",
    "The default number of decimals is 0, meaning that the function will return the nearest integer."
   ]
  },
  {
   "cell_type": "markdown",
   "metadata": {},
   "source": [
    "round(number, digits)\n",
    "\n",
    "number - Required. The number to be rounded\n",
    "\n",
    "digits - Optional. The number of decimals to use when rounding the number. Default is 0"
   ]
  },
  {
   "cell_type": "code",
   "execution_count": null,
   "metadata": {
    "ExecuteTime": {
     "end_time": "2020-02-08T07:17:01.418754Z",
     "start_time": "2020-02-08T07:17:01.413770Z"
    }
   },
   "outputs": [],
   "source": [
    "x = 5.76543\n",
    "\n",
    "round(x)"
   ]
  },
  {
   "cell_type": "code",
   "execution_count": null,
   "metadata": {
    "ExecuteTime": {
     "end_time": "2020-02-08T07:17:17.406038Z",
     "start_time": "2020-02-08T07:17:17.402033Z"
    }
   },
   "outputs": [],
   "source": [
    "x = 5.36543\n",
    "\n",
    "round(x)"
   ]
  },
  {
   "cell_type": "code",
   "execution_count": null,
   "metadata": {
    "ExecuteTime": {
     "end_time": "2020-02-08T07:17:26.418620Z",
     "start_time": "2020-02-08T07:17:26.413637Z"
    }
   },
   "outputs": [],
   "source": [
    "x = 5.36543\n",
    "\n",
    "round(x,2)"
   ]
  },
  {
   "cell_type": "markdown",
   "metadata": {},
   "source": [
    "## sum()\n",
    "\n",
    "The sum() function returns a number, the sum of all items in an iterable."
   ]
  },
  {
   "cell_type": "markdown",
   "metadata": {},
   "source": [
    "sum(iterable, start)\n",
    "\n",
    "- iterable: Required. The sequence to sum\n",
    "- start: Optional. A value that is added to the return value"
   ]
  },
  {
   "cell_type": "code",
   "execution_count": null,
   "metadata": {
    "ExecuteTime": {
     "end_time": "2020-02-08T07:38:33.603484Z",
     "start_time": "2020-02-08T07:38:33.598496Z"
    }
   },
   "outputs": [],
   "source": [
    "list_1 = [1,2,3,4,5,6]\n",
    "\n",
    "sum(list_1)"
   ]
  },
  {
   "cell_type": "code",
   "execution_count": null,
   "metadata": {
    "ExecuteTime": {
     "end_time": "2020-02-08T07:38:40.562267Z",
     "start_time": "2020-02-08T07:38:40.557239Z"
    }
   },
   "outputs": [],
   "source": [
    "sum(list_1, 10)"
   ]
  },
  {
   "cell_type": "markdown",
   "metadata": {
    "ExecuteTime": {
     "end_time": "2020-02-08T08:21:16.805999Z",
     "start_time": "2020-02-08T08:21:16.798008Z"
    }
   },
   "source": [
    "# Built-In Functions - Other Important Functions"
   ]
  },
  {
   "cell_type": "markdown",
   "metadata": {},
   "source": [
    "## len()\n",
    "\n",
    "The len() function returns the number of items in an object.\n",
    "\n",
    "When the object is a string, the len() function returns the number of characters in the string."
   ]
  },
  {
   "cell_type": "code",
   "execution_count": null,
   "metadata": {
    "ExecuteTime": {
     "end_time": "2020-02-08T10:02:25.993233Z",
     "start_time": "2020-02-08T10:02:25.989244Z"
    }
   },
   "outputs": [],
   "source": [
    "mylist = [\"apple\", \"banana\", \"cherry\"]\n",
    "\n",
    "len(mylist)"
   ]
  },
  {
   "cell_type": "code",
   "execution_count": null,
   "metadata": {
    "ExecuteTime": {
     "end_time": "2020-02-08T10:02:26.203080Z",
     "start_time": "2020-02-08T10:02:26.198094Z"
    }
   },
   "outputs": [],
   "source": [
    "str_1 = \"apple\"\n",
    "\n",
    "len(str_1)"
   ]
  },
  {
   "cell_type": "markdown",
   "metadata": {},
   "source": [
    "## type()\n",
    "\n",
    "The type() function returns the type of the specified object"
   ]
  },
  {
   "cell_type": "code",
   "execution_count": null,
   "metadata": {
    "ExecuteTime": {
     "end_time": "2020-02-08T10:02:29.178431Z",
     "start_time": "2020-02-08T10:02:29.174442Z"
    }
   },
   "outputs": [],
   "source": [
    "a = ('apple', 'banana', 'cherry')\n",
    "type(a)"
   ]
  },
  {
   "cell_type": "code",
   "execution_count": null,
   "metadata": {
    "ExecuteTime": {
     "end_time": "2020-02-08T10:02:29.436064Z",
     "start_time": "2020-02-08T10:02:29.431041Z"
    }
   },
   "outputs": [],
   "source": [
    "b = ['apple', 'banana', 'cherry']\n",
    "type(b)"
   ]
  },
  {
   "cell_type": "code",
   "execution_count": null,
   "metadata": {
    "ExecuteTime": {
     "end_time": "2020-02-08T10:02:29.618617Z",
     "start_time": "2020-02-08T10:02:29.614667Z"
    }
   },
   "outputs": [],
   "source": [
    "c = {'name':'amigo'}\n",
    "type(c)"
   ]
  },
  {
   "cell_type": "code",
   "execution_count": null,
   "metadata": {
    "ExecuteTime": {
     "end_time": "2020-02-08T10:02:29.784479Z",
     "start_time": "2020-02-08T10:02:29.778511Z"
    }
   },
   "outputs": [],
   "source": [
    "d = \"Hello World\"\n",
    "type(d)"
   ]
  },
  {
   "cell_type": "code",
   "execution_count": null,
   "metadata": {
    "ExecuteTime": {
     "end_time": "2020-02-08T10:02:30.370819Z",
     "start_time": "2020-02-08T10:02:30.365832Z"
    }
   },
   "outputs": [],
   "source": [
    "e = 33\n",
    "type(e)"
   ]
  },
  {
   "cell_type": "markdown",
   "metadata": {},
   "source": [
    "### Question\n",
    "\n",
    "Create a UDF which takes a list as an input parameter, the list contains elements belonging to 'string','int','float'. The UDF should return a dict with count of various datatype, if there is any other type of datatype in the list, the UDF should return it with 'other' key."
   ]
  },
  {
   "cell_type": "code",
   "execution_count": null,
   "metadata": {
    "ExecuteTime": {
     "end_time": "2020-02-08T10:04:15.234537Z",
     "start_time": "2020-02-08T10:04:15.231996Z"
    }
   },
   "outputs": [],
   "source": [
    "dict_2 = {'name':'amigo'}\n",
    "\n",
    "list_1 = ['monica',123, 67.87, 4.222, 'chandler', 'ross',dict_2]"
   ]
  },
  {
   "cell_type": "code",
   "execution_count": null,
   "metadata": {
    "ExecuteTime": {
     "end_time": "2020-02-08T11:12:12.624633Z",
     "start_time": "2020-02-08T11:12:12.619105Z"
    }
   },
   "outputs": [],
   "source": []
  },
  {
   "cell_type": "code",
   "execution_count": null,
   "metadata": {
    "ExecuteTime": {
     "end_time": "2020-02-08T11:12:33.704233Z",
     "start_time": "2020-02-08T11:12:33.699249Z"
    }
   },
   "outputs": [],
   "source": [
    "datatype_count(list_1)"
   ]
  },
  {
   "cell_type": "code",
   "execution_count": null,
   "metadata": {
    "ExecuteTime": {
     "end_time": "2020-02-08T11:12:34.241645Z",
     "start_time": "2020-02-08T11:12:34.236619Z"
    }
   },
   "outputs": [],
   "source": [
    "type(list_1[1])"
   ]
  },
  {
   "cell_type": "markdown",
   "metadata": {},
   "source": [
    "## isinstance()\n",
    "\n",
    "The isinstance() function returns True if the specified object is of the specified type, otherwise False.\n",
    "\n",
    "If the type parameter is a tuple, this function will return True if the object is one of the types in the tuple."
   ]
  },
  {
   "cell_type": "code",
   "execution_count": null,
   "metadata": {
    "ExecuteTime": {
     "end_time": "2020-02-08T10:04:22.687022Z",
     "start_time": "2020-02-08T10:04:22.681996Z"
    }
   },
   "outputs": [],
   "source": [
    "isinstance(2356,int)"
   ]
  },
  {
   "cell_type": "code",
   "execution_count": null,
   "metadata": {
    "ExecuteTime": {
     "end_time": "2020-02-08T10:04:22.903590Z",
     "start_time": "2020-02-08T10:04:22.899602Z"
    }
   },
   "outputs": [],
   "source": [
    "isinstance(2356,float)"
   ]
  },
  {
   "cell_type": "code",
   "execution_count": null,
   "metadata": {
    "ExecuteTime": {
     "end_time": "2020-02-08T10:04:23.154993Z",
     "start_time": "2020-02-08T10:04:23.151001Z"
    }
   },
   "outputs": [],
   "source": [
    "xyz = []\n",
    "isinstance(xyz,list)"
   ]
  },
  {
   "cell_type": "code",
   "execution_count": null,
   "metadata": {
    "ExecuteTime": {
     "end_time": "2020-02-08T10:04:23.689158Z",
     "start_time": "2020-02-08T10:04:23.684172Z"
    }
   },
   "outputs": [],
   "source": [
    "isinstance(\"Hello\", (float, int, str, list, dict, tuple))"
   ]
  },
  {
   "cell_type": "markdown",
   "metadata": {},
   "source": [
    "## filter()\n",
    "\n",
    "The filter() method filters the given sequence with the help of a function that tests each element in the sequence to be true or not.\n",
    "\n",
    "filter(function, sequence)\n",
    "Parameters:\n",
    "function: function that tests if each element of a \n",
    "sequence true or not.\n",
    "sequence: sequence which needs to be filtered, it can \n",
    "be sets, lists, tuples, or containers of any iterators.\n",
    "Returns:\n",
    "returns an iterator that is already filtered."
   ]
  },
  {
   "cell_type": "code",
   "execution_count": null,
   "metadata": {
    "ExecuteTime": {
     "end_time": "2020-02-08T11:17:34.866365Z",
     "start_time": "2020-02-08T11:17:34.861381Z"
    }
   },
   "outputs": [],
   "source": [
    "ages = [5, 12, 17, 18, 24, 32]\n",
    "\n",
    "def myFunc(x):\n",
    "    if x < 18:\n",
    "        return False\n",
    "    else:\n",
    "        return True"
   ]
  },
  {
   "cell_type": "code",
   "execution_count": null,
   "metadata": {
    "ExecuteTime": {
     "end_time": "2020-02-08T11:17:48.998541Z",
     "start_time": "2020-02-08T11:17:48.993518Z"
    }
   },
   "outputs": [],
   "source": [
    "filter(myFunc, ages)"
   ]
  },
  {
   "cell_type": "code",
   "execution_count": null,
   "metadata": {
    "ExecuteTime": {
     "end_time": "2020-02-08T11:18:20.220453Z",
     "start_time": "2020-02-08T11:18:20.215468Z"
    }
   },
   "outputs": [],
   "source": [
    "for i in filter(myFunc, ages):\n",
    "    print(i)"
   ]
  },
  {
   "cell_type": "code",
   "execution_count": null,
   "metadata": {
    "ExecuteTime": {
     "end_time": "2020-02-08T06:26:00.586570Z",
     "start_time": "2020-02-08T06:26:00.580586Z"
    }
   },
   "outputs": [],
   "source": [
    "adults = list(filter(myFunc, ages))\n",
    "adults"
   ]
  },
  {
   "cell_type": "code",
   "execution_count": null,
   "metadata": {
    "ExecuteTime": {
     "end_time": "2020-02-08T06:32:36.436058Z",
     "start_time": "2020-02-08T06:32:36.431086Z"
    }
   },
   "outputs": [],
   "source": [
    "# a list contains both even and odd numbers.  \n",
    "seq = [0, 1, 2, 3, 5, 8, 13, -2] \n",
    "\n",
    "# result contains odd numbers of the list \n",
    "result = filter(lambda x: x % 2, seq) \n",
    "print(list(result))\n",
    "\n",
    "# result contains even numbers of the list \n",
    "result = filter(lambda x: x % 2 == 0, seq) \n",
    "print(list(result))"
   ]
  },
  {
   "cell_type": "markdown",
   "metadata": {},
   "source": [
    "### Question\n",
    "\n",
    "Create a UDF which takes a list as an input parameter, the list contains elements belonging to 'string','int','float'. The UDF should return a dict with count of various datatype, if there is any other type of datatype in the list, the UDF should return it with 'other' key.\n",
    "\n",
    "Make use isinstance(), filter() and lambda."
   ]
  },
  {
   "cell_type": "code",
   "execution_count": null,
   "metadata": {
    "ExecuteTime": {
     "end_time": "2020-02-08T10:04:41.065449Z",
     "start_time": "2020-02-08T10:04:41.061463Z"
    }
   },
   "outputs": [],
   "source": [
    "dict_2 = {'name':'amigo'}\n",
    "\n",
    "list_1 = ['monica',123, 67.87, 4.222, 'chandler', 'ross',dict_2]"
   ]
  },
  {
   "cell_type": "code",
   "execution_count": null,
   "metadata": {
    "ExecuteTime": {
     "end_time": "2020-02-08T10:33:17.721140Z",
     "start_time": "2020-02-08T10:33:17.715120Z"
    }
   },
   "outputs": [],
   "source": [
    "def datatype_count(list_1):\n",
    "        \n",
    "\n",
    "    return dict_1"
   ]
  },
  {
   "cell_type": "code",
   "execution_count": null,
   "metadata": {
    "ExecuteTime": {
     "end_time": "2020-02-08T10:33:30.595492Z",
     "start_time": "2020-02-08T10:33:30.590508Z"
    }
   },
   "outputs": [],
   "source": [
    "datatype_count(list_1)"
   ]
  },
  {
   "cell_type": "markdown",
   "metadata": {},
   "source": [
    "## all()\n",
    "\n",
    "Python all() function accepts an iterable object (such as list, dictionary etc.) as an argument. If all the elements in the passed iterable are true then all() function returns true else it returns false. If the iterable is empty then also this function returns true."
   ]
  },
  {
   "cell_type": "markdown",
   "metadata": {
    "ExecuteTime": {
     "end_time": "2020-02-08T05:19:50.236525Z",
     "start_time": "2020-02-08T05:19:50.233955Z"
    }
   },
   "source": [
    "### Usage on Lists"
   ]
  },
  {
   "cell_type": "code",
   "execution_count": null,
   "metadata": {
    "ExecuteTime": {
     "end_time": "2020-02-08T05:14:22.582970Z",
     "start_time": "2020-02-08T05:14:22.579413Z"
    }
   },
   "outputs": [],
   "source": [
    "# all values of this list are true\n",
    "list_1 = [10, 5, 15, 77]\n",
    "\n",
    "print(all(list_1))"
   ]
  },
  {
   "cell_type": "code",
   "execution_count": null,
   "metadata": {
    "ExecuteTime": {
     "end_time": "2020-02-23T02:37:56.133871Z",
     "start_time": "2020-02-23T02:37:56.126068Z"
    }
   },
   "outputs": [],
   "source": [
    "# all values of this list are true\n",
    "list_1 = ['a','hello']\n",
    "\n",
    "print(all(list_1))"
   ]
  },
  {
   "cell_type": "code",
   "execution_count": null,
   "metadata": {
    "ExecuteTime": {
     "end_time": "2020-02-08T05:14:22.967284Z",
     "start_time": "2020-02-08T05:14:22.963296Z"
    }
   },
   "outputs": [],
   "source": [
    "# non-zero values are considered true\n",
    "list_1 = [10, 5, 15, -77]\n",
    "\n",
    "print(all(list_1))"
   ]
  },
  {
   "cell_type": "code",
   "execution_count": null,
   "metadata": {
    "ExecuteTime": {
     "end_time": "2020-02-08T05:14:23.669356Z",
     "start_time": "2020-02-08T05:14:23.665583Z"
    }
   },
   "outputs": [],
   "source": [
    "list_1 = [10, 5, 15, 0]\n",
    "\n",
    "print(all(list_1))"
   ]
  },
  {
   "cell_type": "code",
   "execution_count": null,
   "metadata": {
    "ExecuteTime": {
     "end_time": "2020-02-08T05:14:23.866329Z",
     "start_time": "2020-02-08T05:14:23.863342Z"
    }
   },
   "outputs": [],
   "source": [
    "# all values are false\n",
    "# 0 is considered as false\n",
    "list_2 = [0, False, 0]\n",
    "print(all(list_2))"
   ]
  },
  {
   "cell_type": "code",
   "execution_count": null,
   "metadata": {
    "ExecuteTime": {
     "end_time": "2020-02-23T02:38:29.348134Z",
     "start_time": "2020-02-23T02:38:29.340136Z"
    }
   },
   "outputs": [],
   "source": [
    "# one value is false, others are true\n",
    "\n",
    "list_3 = [10, 0, 40]\n",
    "print(all(list_3))"
   ]
  },
  {
   "cell_type": "code",
   "execution_count": null,
   "metadata": {
    "ExecuteTime": {
     "end_time": "2020-02-23T02:38:30.107434Z",
     "start_time": "2020-02-23T02:38:30.099029Z"
    }
   },
   "outputs": [],
   "source": [
    "# empty iterable - no elements\n",
    "\n",
    "list_5 = []\n",
    "print(all(list_5))"
   ]
  },
  {
   "cell_type": "markdown",
   "metadata": {},
   "source": [
    "### Usage on Dictionary"
   ]
  },
  {
   "cell_type": "code",
   "execution_count": null,
   "metadata": {
    "ExecuteTime": {
     "end_time": "2020-02-08T05:18:22.270561Z",
     "start_time": "2020-02-08T05:18:22.265568Z"
    }
   },
   "outputs": [],
   "source": [
    "# Both the keys are true\n",
    "\n",
    "dict_1 = {1: 'True', 2: 'False'}\n",
    "print(all(dict_1))"
   ]
  },
  {
   "cell_type": "code",
   "execution_count": null,
   "metadata": {
    "ExecuteTime": {
     "end_time": "2020-02-08T05:18:42.498711Z",
     "start_time": "2020-02-08T05:18:42.494681Z"
    }
   },
   "outputs": [],
   "source": [
    "# One of the key is false\n",
    "\n",
    "dict_2 = {0: 'True', 1: 'True'}\n",
    "print(all(dict_2))"
   ]
  },
  {
   "cell_type": "markdown",
   "metadata": {},
   "source": [
    "## any()\n",
    "Python any() function accepts iterable (list, tuple, dictionary etc.) as an argument and return true if any of the element in iterable is true, else it returns false. If iterable is empty then any() method returns false."
   ]
  },
  {
   "cell_type": "code",
   "execution_count": null,
   "metadata": {
    "ExecuteTime": {
     "end_time": "2020-02-08T05:28:08.917656Z",
     "start_time": "2020-02-08T05:28:08.913667Z"
    }
   },
   "outputs": [],
   "source": [
    "# all values are true\n",
    "\n",
    "list_1 = [10, 20, 30, 40]\n",
    "print(any(list_1))"
   ]
  },
  {
   "cell_type": "code",
   "execution_count": null,
   "metadata": {
    "ExecuteTime": {
     "end_time": "2020-02-08T05:28:30.044760Z",
     "start_time": "2020-02-08T05:28:30.035783Z"
    }
   },
   "outputs": [],
   "source": [
    "# all values are false\n",
    "\n",
    "list_2 = [0, False]\n",
    "print(any(list_2))"
   ]
  },
  {
   "cell_type": "code",
   "execution_count": null,
   "metadata": {
    "ExecuteTime": {
     "end_time": "2020-02-08T05:28:56.073524Z",
     "start_time": "2020-02-08T05:28:56.069498Z"
    }
   },
   "outputs": [],
   "source": [
    "# one value is false, one is true\n",
    "\n",
    "list_3 = [0, True]\n",
    "print(any(list_3))"
   ]
  },
  {
   "cell_type": "markdown",
   "metadata": {},
   "source": [
    "## enumerate()\n",
    "The enumerate() method adds counter to an iterable and returns it (the enumerate object).\n",
    "\n",
    "The enumerate() method takes two parameters:\n",
    "\n",
    "- iterable - a sequence, an iterator, or objects that supports iteration\n",
    "- start (optional) - enumerate() starts counting from this number. If start is omitted, 0 is taken as start."
   ]
  },
  {
   "cell_type": "code",
   "execution_count": null,
   "metadata": {
    "ExecuteTime": {
     "end_time": "2020-02-08T05:57:43.035250Z",
     "start_time": "2020-02-08T05:57:43.031992Z"
    }
   },
   "outputs": [],
   "source": [
    "L = ['apples', 'bananas', 'oranges']\n",
    "\n",
    "for idx, val in enumerate(L):\n",
    "    print(idx, val)"
   ]
  },
  {
   "cell_type": "code",
   "execution_count": null,
   "metadata": {
    "ExecuteTime": {
     "end_time": "2020-02-08T05:57:52.832489Z",
     "start_time": "2020-02-08T05:57:52.827503Z"
    }
   },
   "outputs": [],
   "source": [
    "L = ['apples', 'bananas', 'oranges']\n",
    "\n",
    "for idx, val in enumerate(L,100):\n",
    "    print(idx, val)"
   ]
  },
  {
   "cell_type": "code",
   "execution_count": null,
   "metadata": {
    "ExecuteTime": {
     "end_time": "2020-02-23T08:54:39.480093Z",
     "start_time": "2020-02-23T08:54:39.463124Z"
    }
   },
   "outputs": [],
   "source": [
    "str_ = \"Python\"\n",
    "\n",
    "dict_1 = {}\n",
    "for idx, ch in enumerate(str_):\n",
    "    dict_1.update({idx:ch})\n",
    "    print(idx, ch)"
   ]
  },
  {
   "cell_type": "code",
   "execution_count": null,
   "metadata": {
    "ExecuteTime": {
     "end_time": "2020-02-23T08:54:42.930648Z",
     "start_time": "2020-02-23T08:54:42.925662Z"
    }
   },
   "outputs": [],
   "source": [
    "dict_1"
   ]
  },
  {
   "cell_type": "markdown",
   "metadata": {},
   "source": [
    "## frozenset()\n",
    "\n",
    "The frozenset() function returns an unchangeable frozenset object (which is like a set object, only unchangeable), an iterable object, like list, set, tuple etc.\n"
   ]
  },
  {
   "cell_type": "code",
   "execution_count": null,
   "metadata": {
    "ExecuteTime": {
     "end_time": "2020-02-08T08:19:32.206043Z",
     "start_time": "2020-02-08T08:19:32.197007Z"
    }
   },
   "outputs": [],
   "source": [
    "mylist = ['apple', 'banana', 'cherry']\n",
    "\n",
    "x = frozenset(mylist)\n",
    "\n",
    "# this will throw an error, since the value cannot be modified\n",
    "x[1] = \"strawberry\""
   ]
  },
  {
   "cell_type": "code",
   "execution_count": null,
   "metadata": {
    "ExecuteTime": {
     "end_time": "2020-02-08T08:20:06.193394Z",
     "start_time": "2020-02-08T08:20:06.188408Z"
    }
   },
   "outputs": [],
   "source": [
    "x"
   ]
  },
  {
   "cell_type": "code",
   "execution_count": null,
   "metadata": {
    "ExecuteTime": {
     "end_time": "2020-02-08T08:19:34.187616Z",
     "start_time": "2020-02-08T08:19:34.182590Z"
    }
   },
   "outputs": [],
   "source": [
    "type(x)"
   ]
  },
  {
   "cell_type": "code",
   "execution_count": null,
   "metadata": {
    "ExecuteTime": {
     "end_time": "2020-02-08T08:19:49.365427Z",
     "start_time": "2020-02-08T08:19:49.363022Z"
    }
   },
   "outputs": [],
   "source": [
    "for i in x:\n",
    "    print(i)"
   ]
  },
  {
   "cell_type": "code",
   "execution_count": null,
   "metadata": {
    "ExecuteTime": {
     "end_time": "2020-02-23T02:47:07.412402Z",
     "start_time": "2020-02-23T02:47:07.407847Z"
    }
   },
   "outputs": [],
   "source": [
    "mylist = ['apple', 'banana', 'cherry','cherry','Apple1']\n",
    "\n",
    "x = frozenset(mylist)"
   ]
  },
  {
   "cell_type": "code",
   "execution_count": null,
   "metadata": {
    "ExecuteTime": {
     "end_time": "2020-02-23T02:47:07.803400Z",
     "start_time": "2020-02-23T02:47:07.794893Z"
    },
    "scrolled": true
   },
   "outputs": [],
   "source": [
    "x"
   ]
  },
  {
   "cell_type": "code",
   "execution_count": null,
   "metadata": {
    "ExecuteTime": {
     "end_time": "2020-02-23T02:47:09.095647Z",
     "start_time": "2020-02-23T02:47:09.088001Z"
    }
   },
   "outputs": [],
   "source": [
    "set(mylist)"
   ]
  },
  {
   "cell_type": "markdown",
   "metadata": {},
   "source": [
    "## id()\n",
    "The id() function returns a unique id for the specified object.\n",
    "\n",
    "All objects in Python has its own unique id.\n",
    "\n",
    "The id is assigned to the object when it is created."
   ]
  },
  {
   "cell_type": "code",
   "execution_count": null,
   "metadata": {
    "ExecuteTime": {
     "end_time": "2020-02-08T07:43:30.912716Z",
     "start_time": "2020-02-08T07:43:30.909686Z"
    }
   },
   "outputs": [],
   "source": [
    "x = ('apple', 'banana', 'cherry')\n",
    "\n",
    "y = id(x)"
   ]
  },
  {
   "cell_type": "code",
   "execution_count": null,
   "metadata": {
    "ExecuteTime": {
     "end_time": "2020-02-08T07:43:31.091239Z",
     "start_time": "2020-02-08T07:43:31.085218Z"
    }
   },
   "outputs": [],
   "source": [
    "y"
   ]
  },
  {
   "cell_type": "code",
   "execution_count": null,
   "metadata": {
    "ExecuteTime": {
     "end_time": "2020-02-08T07:43:31.284693Z",
     "start_time": "2020-02-08T07:43:31.280693Z"
    }
   },
   "outputs": [],
   "source": [
    "list_1 = [2]\n",
    "list_4 = list_1"
   ]
  },
  {
   "cell_type": "code",
   "execution_count": null,
   "metadata": {
    "ExecuteTime": {
     "end_time": "2020-02-08T07:43:31.437275Z",
     "start_time": "2020-02-08T07:43:31.431292Z"
    }
   },
   "outputs": [],
   "source": [
    "print(id(list_1))\n",
    "print(id(list_4))"
   ]
  },
  {
   "cell_type": "code",
   "execution_count": null,
   "metadata": {
    "ExecuteTime": {
     "end_time": "2020-02-08T07:43:31.595379Z",
     "start_time": "2020-02-08T07:43:31.591391Z"
    }
   },
   "outputs": [],
   "source": [
    "list_2 = [4]\n",
    "list_3 = list_2.copy()"
   ]
  },
  {
   "cell_type": "code",
   "execution_count": null,
   "metadata": {
    "ExecuteTime": {
     "end_time": "2020-02-08T07:43:31.717054Z",
     "start_time": "2020-02-08T07:43:31.713066Z"
    }
   },
   "outputs": [],
   "source": [
    "print(id(list_2))\n",
    "print(id(list_3))"
   ]
  },
  {
   "cell_type": "markdown",
   "metadata": {},
   "source": [
    "## input()\n",
    "The input() function allows user input."
   ]
  },
  {
   "cell_type": "code",
   "execution_count": null,
   "metadata": {
    "ExecuteTime": {
     "end_time": "2020-02-08T07:43:32.235334Z",
     "start_time": "2020-02-08T07:43:32.080558Z"
    }
   },
   "outputs": [],
   "source": [
    "print('Enter your name:')\n",
    "x = input()\n",
    "print('Hello, ' + x)"
   ]
  },
  {
   "cell_type": "markdown",
   "metadata": {},
   "source": [
    "## iter() and next()\n",
    "\n",
    "The iter() function returns an iterator object.\n",
    "\n",
    "The next() function returns the next item in an iterator."
   ]
  },
  {
   "cell_type": "code",
   "execution_count": null,
   "metadata": {
    "ExecuteTime": {
     "end_time": "2020-02-23T09:09:13.454649Z",
     "start_time": "2020-02-23T09:09:13.450660Z"
    }
   },
   "outputs": [],
   "source": [
    "x = iter([\"apple\", \"banana\", \"cherry\"])"
   ]
  },
  {
   "cell_type": "code",
   "execution_count": null,
   "metadata": {
    "ExecuteTime": {
     "end_time": "2020-02-23T09:09:22.515776Z",
     "start_time": "2020-02-23T09:09:22.512789Z"
    }
   },
   "outputs": [],
   "source": [
    "a = next(x)"
   ]
  },
  {
   "cell_type": "code",
   "execution_count": null,
   "metadata": {
    "ExecuteTime": {
     "end_time": "2020-02-23T09:09:28.274340Z",
     "start_time": "2020-02-23T09:09:28.269324Z"
    }
   },
   "outputs": [],
   "source": [
    "a"
   ]
  },
  {
   "cell_type": "code",
   "execution_count": null,
   "metadata": {
    "ExecuteTime": {
     "end_time": "2020-02-23T09:09:46.439233Z",
     "start_time": "2020-02-23T09:09:46.433248Z"
    }
   },
   "outputs": [],
   "source": [
    "b = next(x)\n",
    "b"
   ]
  },
  {
   "cell_type": "code",
   "execution_count": null,
   "metadata": {
    "ExecuteTime": {
     "end_time": "2020-02-23T09:09:08.164662Z",
     "start_time": "2020-02-23T09:09:08.160563Z"
    }
   },
   "outputs": [],
   "source": [
    "print(next(x))\n",
    "print(next(x))\n",
    "print(next(x))"
   ]
  },
  {
   "cell_type": "code",
   "execution_count": null,
   "metadata": {
    "ExecuteTime": {
     "end_time": "2020-02-08T07:43:34.866523Z",
     "start_time": "2020-02-08T07:43:34.863532Z"
    }
   },
   "outputs": [],
   "source": [
    "list_1 = [1, 2, 3, 4, 5]\n",
    "\n",
    "list_iter = iter(list_1)"
   ]
  },
  {
   "cell_type": "code",
   "execution_count": null,
   "metadata": {
    "ExecuteTime": {
     "end_time": "2020-02-08T07:43:35.045763Z",
     "start_time": "2020-02-08T07:43:35.041813Z"
    }
   },
   "outputs": [],
   "source": [
    "for i in range(len(list_1)):\n",
    "    print(next(list_iter))"
   ]
  },
  {
   "cell_type": "markdown",
   "metadata": {},
   "source": [
    "## map()\n",
    "\n",
    "The map() function executes a specified function for each item in a iterable. The item is sent to the function as a parameter."
   ]
  },
  {
   "cell_type": "code",
   "execution_count": null,
   "metadata": {
    "ExecuteTime": {
     "end_time": "2020-02-08T07:43:35.707865Z",
     "start_time": "2020-02-08T07:43:35.704011Z"
    }
   },
   "outputs": [],
   "source": [
    "def myfunc(n):\n",
    "    return len(n)\n",
    "\n",
    "x = list(map(myfunc, ('apple', 'banana', 'cherry')))"
   ]
  },
  {
   "cell_type": "code",
   "execution_count": null,
   "metadata": {
    "ExecuteTime": {
     "end_time": "2020-02-08T07:01:02.745750Z",
     "start_time": "2020-02-08T07:01:02.742252Z"
    }
   },
   "outputs": [],
   "source": [
    "for i in x:\n",
    "    print(i)"
   ]
  },
  {
   "cell_type": "code",
   "execution_count": null,
   "metadata": {
    "ExecuteTime": {
     "end_time": "2020-02-08T07:02:17.925132Z",
     "start_time": "2020-02-08T07:02:17.919109Z"
    }
   },
   "outputs": [],
   "source": [
    "list_1 = ['apple', 'banana', 'cherry']\n",
    "\n",
    "list(map(len,list_1))"
   ]
  },
  {
   "cell_type": "code",
   "execution_count": null,
   "metadata": {
    "ExecuteTime": {
     "end_time": "2020-02-23T05:38:58.241176Z",
     "start_time": "2020-02-23T05:38:58.225204Z"
    }
   },
   "outputs": [],
   "source": [
    "list_2 = [3,5,7,8]\n",
    "\n",
    "\n",
    "list(map(lambda x: x**2, list_2))"
   ]
  },
  {
   "cell_type": "markdown",
   "metadata": {},
   "source": [
    "## slice()\n",
    "\n",
    "The slice() function returns a slice object.\n",
    "\n",
    "A slice object is used to specify how to slice a sequence. You can specify where to start the slicing, and where to end. You can also specify the step, which allows you to e.g. slice only every other item."
   ]
  },
  {
   "cell_type": "markdown",
   "metadata": {},
   "source": [
    "slice(start, end, step)\n",
    "\n",
    "\n",
    "- start: Optional. An integer number specifying at which position to start the slicing. Default is 0\n",
    "\n",
    "- end: Required. An integer number specifying at which position to end the slicing\n",
    "\n",
    "- step: Optional. An integer number specifying the step of the slicing. Default is 1"
   ]
  },
  {
   "cell_type": "code",
   "execution_count": null,
   "metadata": {
    "ExecuteTime": {
     "end_time": "2020-02-08T07:21:58.278589Z",
     "start_time": "2020-02-08T07:21:58.274601Z"
    }
   },
   "outputs": [],
   "source": [
    "list_1 = list(\"Alphabet\")"
   ]
  },
  {
   "cell_type": "code",
   "execution_count": null,
   "metadata": {
    "ExecuteTime": {
     "end_time": "2020-02-08T07:22:00.955466Z",
     "start_time": "2020-02-08T07:22:00.949483Z"
    }
   },
   "outputs": [],
   "source": [
    "list_1"
   ]
  },
  {
   "cell_type": "code",
   "execution_count": null,
   "metadata": {
    "ExecuteTime": {
     "end_time": "2020-02-08T07:26:50.553870Z",
     "start_time": "2020-02-08T07:26:50.549163Z"
    }
   },
   "outputs": [],
   "source": [
    "slice_1 = slice(5)\n",
    "\n",
    "list_1[slice_1]"
   ]
  },
  {
   "cell_type": "code",
   "execution_count": null,
   "metadata": {
    "ExecuteTime": {
     "end_time": "2020-02-08T07:27:12.408432Z",
     "start_time": "2020-02-08T07:27:12.403459Z"
    }
   },
   "outputs": [],
   "source": [
    "slice_2 = slice(2,5)\n",
    "\n",
    "list_1[slice_2]"
   ]
  },
  {
   "cell_type": "code",
   "execution_count": null,
   "metadata": {
    "ExecuteTime": {
     "end_time": "2020-02-08T07:27:18.429802Z",
     "start_time": "2020-02-08T07:27:18.424817Z"
    }
   },
   "outputs": [],
   "source": [
    "slice_3 = slice(1,5,2)\n",
    "\n",
    "list_1[slice_3]"
   ]
  },
  {
   "cell_type": "code",
   "execution_count": null,
   "metadata": {
    "ExecuteTime": {
     "end_time": "2020-02-08T07:27:49.729051Z",
     "start_time": "2020-02-08T07:27:49.725016Z"
    }
   },
   "outputs": [],
   "source": [
    "slice_4 = slice(1,5,3)\n",
    "\n",
    "list_1[slice_4]"
   ]
  },
  {
   "cell_type": "markdown",
   "metadata": {},
   "source": [
    "## reversed()\n",
    "\n",
    "The reversed() function returns a reversed iterator object."
   ]
  },
  {
   "cell_type": "code",
   "execution_count": null,
   "metadata": {
    "ExecuteTime": {
     "end_time": "2020-02-23T09:23:02.482434Z",
     "start_time": "2020-02-23T09:23:02.478484Z"
    }
   },
   "outputs": [],
   "source": [
    "list_1 = list(\"Hello\")"
   ]
  },
  {
   "cell_type": "code",
   "execution_count": null,
   "metadata": {
    "ExecuteTime": {
     "end_time": "2020-02-23T09:23:02.791653Z",
     "start_time": "2020-02-23T09:23:02.788661Z"
    }
   },
   "outputs": [],
   "source": [
    "list_2 = reversed(list_1)"
   ]
  },
  {
   "cell_type": "code",
   "execution_count": null,
   "metadata": {
    "ExecuteTime": {
     "end_time": "2020-02-23T09:23:03.188600Z",
     "start_time": "2020-02-23T09:23:03.183614Z"
    }
   },
   "outputs": [],
   "source": [
    "list_2"
   ]
  },
  {
   "cell_type": "code",
   "execution_count": null,
   "metadata": {
    "ExecuteTime": {
     "end_time": "2020-02-23T09:23:09.036560Z",
     "start_time": "2020-02-23T09:23:09.030578Z"
    }
   },
   "outputs": [],
   "source": [
    "list(list_2)"
   ]
  },
  {
   "cell_type": "code",
   "execution_count": null,
   "metadata": {
    "ExecuteTime": {
     "end_time": "2020-02-23T06:00:54.489511Z",
     "start_time": "2020-02-23T06:00:54.486518Z"
    }
   },
   "outputs": [],
   "source": [
    "for i in list_2:\n",
    "    print(i)"
   ]
  },
  {
   "cell_type": "markdown",
   "metadata": {},
   "source": [
    "## sorted()\n",
    "\n",
    "The sorted() function returns a sorted list of the specified iterable object.\n",
    "\n",
    "You can specify ascending or descending order. Strings are sorted alphabetically, and numbers are sorted numerically."
   ]
  },
  {
   "cell_type": "code",
   "execution_count": null,
   "metadata": {
    "ExecuteTime": {
     "end_time": "2020-02-23T09:24:34.148179Z",
     "start_time": "2020-02-23T09:24:34.145316Z"
    }
   },
   "outputs": [],
   "source": [
    "list_1 = list(\"World\")"
   ]
  },
  {
   "cell_type": "code",
   "execution_count": null,
   "metadata": {
    "ExecuteTime": {
     "end_time": "2020-02-23T09:24:34.877219Z",
     "start_time": "2020-02-23T09:24:34.873231Z"
    }
   },
   "outputs": [],
   "source": [
    "list_2 = sorted(list_1)"
   ]
  },
  {
   "cell_type": "code",
   "execution_count": null,
   "metadata": {
    "ExecuteTime": {
     "end_time": "2020-02-23T09:24:36.392907Z",
     "start_time": "2020-02-23T09:24:36.387921Z"
    }
   },
   "outputs": [],
   "source": [
    "for i in list_2:\n",
    "    print(i)"
   ]
  },
  {
   "cell_type": "markdown",
   "metadata": {},
   "source": [
    "## zip()\n",
    "\n",
    "The zip() function returns a zip object, which is an iterator of tuples where the first item in each passed iterator is paired together, and then the second item in each passed iterator are paired together etc.\n",
    "\n",
    "If the passed iterators have different lengths, the iterator with the least items decides the length of the new iterator."
   ]
  },
  {
   "cell_type": "code",
   "execution_count": null,
   "metadata": {
    "ExecuteTime": {
     "end_time": "2020-02-23T09:28:09.027538Z",
     "start_time": "2020-02-23T09:28:09.022541Z"
    }
   },
   "outputs": [],
   "source": [
    "a = (\"John\", \"Charles\", \"Mike\")\n",
    "b = (\"Jenny\", \"Christy\", \"Monica\", \"Vicky\")\n",
    "\n",
    "x = zip(a, b)"
   ]
  },
  {
   "cell_type": "code",
   "execution_count": null,
   "metadata": {
    "ExecuteTime": {
     "end_time": "2020-02-23T09:28:09.263043Z",
     "start_time": "2020-02-23T09:28:09.258070Z"
    }
   },
   "outputs": [],
   "source": [
    "x"
   ]
  },
  {
   "cell_type": "code",
   "execution_count": null,
   "metadata": {
    "ExecuteTime": {
     "end_time": "2020-02-23T09:28:09.427450Z",
     "start_time": "2020-02-23T09:28:09.424459Z"
    }
   },
   "outputs": [],
   "source": [
    "m = dict(x)\n",
    "print(m)"
   ]
  },
  {
   "cell_type": "code",
   "execution_count": null,
   "metadata": {
    "ExecuteTime": {
     "end_time": "2020-02-23T06:06:23.138433Z",
     "start_time": "2020-02-23T06:06:23.134442Z"
    }
   },
   "outputs": [],
   "source": [
    "# n = list(x)\n",
    "# print(n)"
   ]
  },
  {
   "cell_type": "code",
   "execution_count": null,
   "metadata": {
    "ExecuteTime": {
     "end_time": "2020-02-23T06:06:23.515144Z",
     "start_time": "2020-02-23T06:06:23.511117Z"
    }
   },
   "outputs": [],
   "source": [
    "for i in x:\n",
    "    print(i)"
   ]
  },
  {
   "cell_type": "code",
   "execution_count": null,
   "metadata": {
    "ExecuteTime": {
     "end_time": "2020-02-23T06:13:10.505351Z",
     "start_time": "2020-02-23T06:13:10.499365Z"
    }
   },
   "outputs": [],
   "source": [
    "a = (\"John\", \"Charles\", \"Mike\",'Harriet')\n",
    "b = (\"Jenny\", \"Christy\", \"Monica\", \"Vicky\")\n",
    "\n",
    "dict_1 = dict(zip(a,b))\n",
    "dict_1"
   ]
  },
  {
   "cell_type": "code",
   "execution_count": null,
   "metadata": {
    "ExecuteTime": {
     "end_time": "2020-02-23T06:13:10.876782Z",
     "start_time": "2020-02-23T06:13:10.872531Z"
    }
   },
   "outputs": [],
   "source": [
    "a = (\"John\", \"Charles\", \"Mike\",'Harriet')\n",
    "b = (\"Jenny\", \"Christy\", \"Monica\", \"Vicky\")\n",
    "\n",
    "list_1 = list(zip(a,b))\n",
    "list_1"
   ]
  },
  {
   "cell_type": "code",
   "execution_count": null,
   "metadata": {
    "ExecuteTime": {
     "end_time": "2020-02-23T06:13:11.311923Z",
     "start_time": "2020-02-23T06:13:11.306945Z"
    },
    "scrolled": true
   },
   "outputs": [],
   "source": [
    "a = [\"John\", \"Charles\", \"Mike\",'Harriet']\n",
    "b = [\"Jenny\", \"Christy\", \"Monica\", \"Vicky\"]\n",
    "\n",
    "list_1 = list(zip(a,b))\n",
    "list_1"
   ]
  },
  {
   "cell_type": "markdown",
   "metadata": {},
   "source": [
    "## try and except"
   ]
  },
  {
   "cell_type": "markdown",
   "metadata": {},
   "source": [
    "try() is used in Error and Exception Handling\n",
    "There are two kinds of errors :\n",
    "\n",
    "Syntax Error : Also known as Parsing Errors, most basic. Arise when the Python parser is unable to understand a line of code.\n",
    "\n",
    "Exception : Errors which are detected during execution. eg – ZeroDivisionError.\n",
    "List of Exception Errors :\n",
    "\n",
    "- IOError : if file can’t be opened\n",
    "- KeyboardInterrupt : when an unrequired key is pressed by the user\n",
    "- ValueError : when built-in function receives a wrong argument\n",
    "- EOFError : if End-Of-File is hit without reading any data\n",
    "- ImportError : if it is unable to find the module"
   ]
  },
  {
   "cell_type": "code",
   "execution_count": null,
   "metadata": {
    "ExecuteTime": {
     "end_time": "2020-02-25T20:29:09.996503Z",
     "start_time": "2020-02-25T20:29:09.993512Z"
    }
   },
   "outputs": [],
   "source": [
    "value = \"Hello_World\""
   ]
  },
  {
   "cell_type": "code",
   "execution_count": null,
   "metadata": {
    "ExecuteTime": {
     "end_time": "2020-02-25T20:29:49.802252Z",
     "start_time": "2020-02-25T20:29:49.795749Z"
    }
   },
   "outputs": [],
   "source": [
    "change_to_int = int(value) #Will throw an error (obvious)"
   ]
  },
  {
   "cell_type": "code",
   "execution_count": null,
   "metadata": {
    "ExecuteTime": {
     "end_time": "2020-02-25T20:32:19.631350Z",
     "start_time": "2020-02-25T20:32:19.626401Z"
    }
   },
   "outputs": [],
   "source": [
    "try:\n",
    "    change_to_int = int(value)\n",
    "except Exception as e:\n",
    "    print(e)\n",
    "    print(\"Cannot convert to int\")"
   ]
  },
  {
   "cell_type": "markdown",
   "metadata": {},
   "source": [
    "### Example using list"
   ]
  },
  {
   "cell_type": "code",
   "execution_count": null,
   "metadata": {
    "ExecuteTime": {
     "end_time": "2020-02-25T20:36:52.164123Z",
     "start_time": "2020-02-25T20:36:52.161575Z"
    }
   },
   "outputs": [],
   "source": [
    "random_list = [56.43,\"Hola\",89.00065,45.01,\"random_text\"]"
   ]
  },
  {
   "cell_type": "code",
   "execution_count": null,
   "metadata": {
    "ExecuteTime": {
     "end_time": "2020-02-25T20:36:52.368783Z",
     "start_time": "2020-02-25T20:36:52.364740Z"
    }
   },
   "outputs": [],
   "source": [
    "converted_int = []\n",
    "for i in random_list:\n",
    "    try:\n",
    "        random_variable = int(i)\n",
    "    except:\n",
    "        random_variable = \"hobey naa\"\n",
    "\n",
    "    converted_int.append(random_variable)"
   ]
  },
  {
   "cell_type": "code",
   "execution_count": null,
   "metadata": {
    "ExecuteTime": {
     "end_time": "2020-02-25T20:36:52.527288Z",
     "start_time": "2020-02-25T20:36:52.521304Z"
    }
   },
   "outputs": [],
   "source": [
    "converted_int"
   ]
  },
  {
   "cell_type": "markdown",
   "metadata": {},
   "source": [
    "## Question - 1\n",
    "\n",
    "Create a UDF which takes your name as input (a string). It stores each unique character of your name in a list in sorted order. Using enumerate and dict function, the function should return a dictionary with keys as integer starting from 0 and values as sorted characters of your name.\n",
    "\n",
    "Example:\n",
    "\n",
    "Input: 'devesh'\n",
    "\n",
    "Output:\n",
    "\n",
    "{0: 'd',\n",
    "1: 'e',\n",
    "2: 'h',\n",
    "3: 's',\n",
    "4: 'v'\n",
    "}\n"
   ]
  },
  {
   "cell_type": "markdown",
   "metadata": {},
   "source": [
    "## Question - 2\n",
    "\n",
    "Create a UDF which takes your name as input (a string). It stores each unique character of your name in a list in sorted order. Using zip and dict function, the function should return a dictionary with keys as integer starting from 0 and values as sorted characters of your name.\n",
    "\n",
    "Example:\n",
    "\n",
    "Input: 'devesh'\n",
    "\n",
    "Output:\n",
    "\n",
    "{0: 'd',\n",
    "1: 'e',\n",
    "2: 'h',\n",
    "3: 's',\n",
    "4: 'v'\n",
    "}\n"
   ]
  },
  {
   "cell_type": "markdown",
   "metadata": {},
   "source": [
    "# List Comprehensions"
   ]
  },
  {
   "cell_type": "markdown",
   "metadata": {
    "ExecuteTime": {
     "end_time": "2020-02-23T07:30:09.706845Z",
     "start_time": "2020-02-23T07:30:09.693844Z"
    }
   },
   "source": [
    "List comprehensions provide a concise way to create lists. \n",
    "\n",
    "Common applications are to make new lists where each element is the result of some operations applied to each member of another sequence or iterable, or to create a subsequence of those elements that satisfy a certain condition."
   ]
  },
  {
   "cell_type": "code",
   "execution_count": null,
   "metadata": {
    "ExecuteTime": {
     "end_time": "2020-02-23T07:34:16.411600Z",
     "start_time": "2020-02-23T07:34:16.408395Z"
    }
   },
   "outputs": [],
   "source": [
    "squares = []\n",
    "\n",
    "for x in range(10):\n",
    "    squares.append(x**2)\n",
    "    \n",
    "squares"
   ]
  },
  {
   "cell_type": "code",
   "execution_count": null,
   "metadata": {
    "ExecuteTime": {
     "end_time": "2020-02-23T07:34:18.185223Z",
     "start_time": "2020-02-23T07:34:18.180239Z"
    }
   },
   "outputs": [],
   "source": [
    "x"
   ]
  },
  {
   "cell_type": "markdown",
   "metadata": {},
   "source": [
    "Note that this creates (or overwrites) a variable named 'x' that still exists after the loop completes. We can calculate the list of squares without any side effects using:"
   ]
  },
  {
   "cell_type": "code",
   "execution_count": null,
   "metadata": {
    "ExecuteTime": {
     "end_time": "2020-02-23T07:34:00.885659Z",
     "start_time": "2020-02-23T07:34:00.879709Z"
    }
   },
   "outputs": [],
   "source": [
    "squares = list(map(lambda x: x**2, range(10)))\n",
    "squares"
   ]
  },
  {
   "cell_type": "markdown",
   "metadata": {
    "ExecuteTime": {
     "end_time": "2020-02-23T07:35:25.927917Z",
     "start_time": "2020-02-23T07:35:25.922977Z"
    }
   },
   "source": [
    "or, equivalently:"
   ]
  },
  {
   "cell_type": "code",
   "execution_count": null,
   "metadata": {
    "ExecuteTime": {
     "end_time": "2020-02-23T07:35:49.881041Z",
     "start_time": "2020-02-23T07:35:49.875054Z"
    }
   },
   "outputs": [],
   "source": [
    "squares = [x**2 for x in range(10)]\n",
    "squares"
   ]
  },
  {
   "cell_type": "markdown",
   "metadata": {},
   "source": [
    "which is more concise and readable."
   ]
  },
  {
   "cell_type": "markdown",
   "metadata": {},
   "source": [
    "A list comprehension consists of brackets containing an expression followed by a 'for' clause, then zero or more 'for' or 'if' clauses. The result will be a new list resulting from evaluating the expression in the context of the for and if clauses which follow it."
   ]
  },
  {
   "cell_type": "markdown",
   "metadata": {},
   "source": [
    "For example, this listcomp combines the elements of two lists if they are not equal:"
   ]
  },
  {
   "cell_type": "code",
   "execution_count": null,
   "metadata": {
    "ExecuteTime": {
     "end_time": "2020-02-23T07:37:07.628770Z",
     "start_time": "2020-02-23T07:37:07.623784Z"
    }
   },
   "outputs": [],
   "source": [
    "[(x, y) for x in [1,2,3] for y in [3,1,4] if x != y]"
   ]
  },
  {
   "cell_type": "markdown",
   "metadata": {},
   "source": [
    "and it’s equivalent to:"
   ]
  },
  {
   "cell_type": "code",
   "execution_count": null,
   "metadata": {
    "ExecuteTime": {
     "end_time": "2020-02-23T07:40:05.983930Z",
     "start_time": "2020-02-23T07:40:05.978984Z"
    }
   },
   "outputs": [],
   "source": [
    "combs = []\n",
    "for x in [1,2,3]:\n",
    "    for y in [3,1,4]:\n",
    "        if x != y:\n",
    "            combs.append((x, y))"
   ]
  },
  {
   "cell_type": "code",
   "execution_count": null,
   "metadata": {
    "ExecuteTime": {
     "end_time": "2020-02-23T07:40:15.320148Z",
     "start_time": "2020-02-23T07:40:15.316158Z"
    }
   },
   "outputs": [],
   "source": [
    "combs"
   ]
  },
  {
   "cell_type": "markdown",
   "metadata": {},
   "source": [
    "## Let's Create few List Comprehensions"
   ]
  },
  {
   "cell_type": "code",
   "execution_count": null,
   "metadata": {
    "ExecuteTime": {
     "end_time": "2020-02-23T07:43:46.794644Z",
     "start_time": "2020-02-23T07:43:46.792357Z"
    }
   },
   "outputs": [],
   "source": [
    "x = [1,5,8]"
   ]
  },
  {
   "cell_type": "markdown",
   "metadata": {},
   "source": [
    "### Question - 1\n",
    "Create a list using list comprehension that add integer 2 to a pre-defined list elements.\n",
    "\n",
    "List: [1,5,8]\n",
    "\n",
    "Output: [3,7,10]"
   ]
  },
  {
   "cell_type": "code",
   "execution_count": null,
   "metadata": {
    "ExecuteTime": {
     "end_time": "2020-02-23T07:46:20.499494Z",
     "start_time": "2020-02-23T07:46:20.494509Z"
    }
   },
   "outputs": [],
   "source": []
  },
  {
   "cell_type": "markdown",
   "metadata": {
    "ExecuteTime": {
     "end_time": "2020-02-23T07:45:36.040273Z",
     "start_time": "2020-02-23T07:45:36.033708Z"
    }
   },
   "source": [
    "### Question - 2\n",
    "Create a list using list comprehension that extract only even value from a pre-defined list.\n",
    "\n",
    "List: [1,4,8,11]\n",
    "\n",
    "Output: [4,8]"
   ]
  },
  {
   "cell_type": "code",
   "execution_count": null,
   "metadata": {
    "ExecuteTime": {
     "end_time": "2020-02-23T07:48:35.064767Z",
     "start_time": "2020-02-23T07:48:35.058777Z"
    }
   },
   "outputs": [],
   "source": []
  },
  {
   "cell_type": "markdown",
   "metadata": {},
   "source": [
    "### Question - 3\n",
    "\n",
    "Create a list using list comprehension that add elements of two different list.\n",
    "\n",
    "List_1: [1,5]\n",
    "\n",
    "List_2: [4,5]\n",
    "\n",
    "Output: [5, 6, 9, 10]"
   ]
  },
  {
   "cell_type": "code",
   "execution_count": null,
   "metadata": {
    "ExecuteTime": {
     "end_time": "2020-02-23T07:51:29.907996Z",
     "start_time": "2020-02-23T07:51:29.902014Z"
    }
   },
   "outputs": [],
   "source": []
  },
  {
   "cell_type": "markdown",
   "metadata": {},
   "source": [
    "### Question - 4\n",
    "\n",
    "Create a list using list comprehension that add elements of two different list if they are not equal.\n",
    "\n",
    "List_1: [1,5]\n",
    "\n",
    "List_2: [4,5,8]\n",
    "\n",
    "Output: [5, 6, 9, 9, 13]"
   ]
  },
  {
   "cell_type": "code",
   "execution_count": null,
   "metadata": {
    "ExecuteTime": {
     "end_time": "2020-02-23T07:54:59.284416Z",
     "start_time": "2020-02-23T07:54:59.278433Z"
    }
   },
   "outputs": [],
   "source": []
  },
  {
   "cell_type": "markdown",
   "metadata": {},
   "source": [
    "# Exercise"
   ]
  },
  {
   "cell_type": "markdown",
   "metadata": {},
   "source": [
    "## Question 1\n",
    "\n",
    "Maria plays college basketball and wants to go pro. Each season she maintains a record of her play. She tabulates the number of times she breaks her season record for most points and least points in a game. Points scored in the first game establish her record for the season, and she begins counting from there.\n",
    "\n",
    "For example, assume her scores for the season are represented in the array = [12,24,10,24] . Scores are in the same order as the games played.\n",
    "\n",
    "Given Maria's scores for a season, find and print the number of times she breaks her records.\n",
    "\n",
    "Create a user defined function which can take:\n",
    "\n",
    "- number of matches played\n",
    "- scores in those matches\n",
    "\n",
    "Output: an integer - how many times she has broken her own records in the season\n",
    "\n",
    "The function defined should pass following test cases by returning the desired output:\n",
    "\n",
    "- 4\n",
    "- 12,24,10,24\n",
    "- output: 1\n",
    "\n",
    "\n",
    "- 8\n",
    "- 10, 5, 20, 20, 4, 6, 25, 20\n",
    "- output: 2\n",
    "\n",
    "\n",
    "- 12\n",
    "- 1,2,2,3,3,3,4,4,4,4,5,5\n",
    "- output: 4"
   ]
  },
  {
   "cell_type": "code",
   "execution_count": null,
   "metadata": {
    "ExecuteTime": {
     "end_time": "2020-02-08T09:42:46.918453Z",
     "start_time": "2020-02-08T09:42:46.913468Z"
    }
   },
   "outputs": [],
   "source": [
    "def brokenrecords():\n",
    "    print(\"Enter the number of matches played in the season: \")\n",
    "\n",
    "    \n",
    "    return count"
   ]
  },
  {
   "cell_type": "code",
   "execution_count": null,
   "metadata": {
    "ExecuteTime": {
     "end_time": "2020-02-08T09:41:38.808867Z",
     "start_time": "2020-02-08T09:40:53.284707Z"
    }
   },
   "outputs": [],
   "source": [
    "brokenrecords()"
   ]
  },
  {
   "cell_type": "markdown",
   "metadata": {},
   "source": [
    "## Question 2\n",
    "\n",
    "John works at a clothing store. He has a large pile of socks that he must pair by color for sale. Given an array of integers representing the color of each sock, determine how many pairs of socks with matching colors there are.\n",
    "\n",
    "For example, there are n=7 socks with colors array = [1,2,1,2,1,3,2]. There is one pair of color '1' and one of color '2'. There are three odd socks left, one of each color. The number of pairs is '2'.\n",
    "\n",
    "Create a user defined function 'sockMerchant' can take parameters:\n",
    "\n",
    "n: the number of socks in the pile\n",
    "\n",
    "ar: the colors of each sock\n",
    "\n",
    "Output: It must return an integer representing the number of matching pairs of socks that are available.\n",
    "\n",
    "The function defined should pass following test cases by returning the desired output:\n",
    "\n",
    "- 5\n",
    "- 1,1,2,2,2\n",
    "- output: 2\n",
    "\n",
    "\n",
    "- 8\n",
    "- 1,1,1,2,2,3,4,4\n",
    "- output: 3\n",
    "\n",
    "\n",
    "- 12\n",
    "- 1,2,1,3,4,2,6,3,5,2,1,5\n",
    "- output: 4"
   ]
  },
  {
   "cell_type": "code",
   "execution_count": null,
   "metadata": {
    "ExecuteTime": {
     "end_time": "2020-02-08T09:09:41.618127Z",
     "start_time": "2020-02-08T09:09:41.611145Z"
    }
   },
   "outputs": [],
   "source": [
    "def sockMerchant():\n",
    "    print(\"Enter  the number of socks in the pile: \")\n",
    "\n",
    "        \n",
    "    return(pair)"
   ]
  },
  {
   "cell_type": "code",
   "execution_count": null,
   "metadata": {
    "ExecuteTime": {
     "end_time": "2020-02-08T09:09:55.409613Z",
     "start_time": "2020-02-08T09:09:42.149947Z"
    }
   },
   "outputs": [],
   "source": [
    "sockMerchant()"
   ]
  }
 ],
 "metadata": {
  "kernelspec": {
   "display_name": "Python 3",
   "language": "python",
   "name": "python3"
  },
  "language_info": {
   "codemirror_mode": {
    "name": "ipython",
    "version": 3
   },
   "file_extension": ".py",
   "mimetype": "text/x-python",
   "name": "python",
   "nbconvert_exporter": "python",
   "pygments_lexer": "ipython3",
   "version": "3.6.8"
  },
  "toc": {
   "base_numbering": 1,
   "nav_menu": {},
   "number_sections": true,
   "sideBar": true,
   "skip_h1_title": false,
   "title_cell": "Table of Contents",
   "title_sidebar": "Contents",
   "toc_cell": false,
   "toc_position": {
    "height": "calc(100% - 180px)",
    "left": "10px",
    "top": "150px",
    "width": "342.545px"
   },
   "toc_section_display": true,
   "toc_window_display": true
  }
 },
 "nbformat": 4,
 "nbformat_minor": 2
}
